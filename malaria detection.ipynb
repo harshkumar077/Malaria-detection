{
 "cells": [
  {
   "cell_type": "code",
   "execution_count": 1,
   "id": "67425dd3",
   "metadata": {},
   "outputs": [],
   "source": [
    "from keras.layers import Input,Lambda,Dense,Flatten,Conv2D\n",
    "from keras.models import Model\n",
    "from keras.applications.vgg19 import VGG19\n",
    "from keras.applications.resnet50 import preprocess_input\n",
    "from keras.preprocessing import image\n",
    "from keras.preprocessing.image import ImageDataGenerator,load_img\n",
    "from keras.models import Sequential\n",
    "import numpy as np\n",
    "from glob import glob\n",
    "import matplotlib.pyplot as plt\n"
   ]
  },
  {
   "cell_type": "code",
   "execution_count": 11,
   "id": "dea68686",
   "metadata": {},
   "outputs": [],
   "source": [
    "image_size=[224,224]\n",
    "train_path='Train'\n",
    "test_path='Test'"
   ]
  },
  {
   "cell_type": "code",
   "execution_count": 12,
   "id": "4c66c926",
   "metadata": {},
   "outputs": [],
   "source": [
    "vgg19=VGG19(input_shape=image_size+[3],weights='imagenet',include_top=False)"
   ]
  },
  {
   "cell_type": "code",
   "execution_count": 13,
   "id": "14008478",
   "metadata": {},
   "outputs": [],
   "source": [
    "for layer in vgg19.layers:\n",
    "    layer.trainable=False"
   ]
  },
  {
   "cell_type": "code",
   "execution_count": 18,
   "id": "5c661870",
   "metadata": {},
   "outputs": [
    {
     "name": "stdout",
     "output_type": "stream",
     "text": [
      "Model: \"vgg19\"\n",
      "_________________________________________________________________\n",
      " Layer (type)                Output Shape              Param #   \n",
      "=================================================================\n",
      " input_2 (InputLayer)        [(None, 224, 224, 3)]     0         \n",
      "                                                                 \n",
      " block1_conv1 (Conv2D)       (None, 224, 224, 64)      1792      \n",
      "                                                                 \n",
      " block1_conv2 (Conv2D)       (None, 224, 224, 64)      36928     \n",
      "                                                                 \n",
      " block1_pool (MaxPooling2D)  (None, 112, 112, 64)      0         \n",
      "                                                                 \n",
      " block2_conv1 (Conv2D)       (None, 112, 112, 128)     73856     \n",
      "                                                                 \n",
      " block2_conv2 (Conv2D)       (None, 112, 112, 128)     147584    \n",
      "                                                                 \n",
      " block2_pool (MaxPooling2D)  (None, 56, 56, 128)       0         \n",
      "                                                                 \n",
      " block3_conv1 (Conv2D)       (None, 56, 56, 256)       295168    \n",
      "                                                                 \n",
      " block3_conv2 (Conv2D)       (None, 56, 56, 256)       590080    \n",
      "                                                                 \n",
      " block3_conv3 (Conv2D)       (None, 56, 56, 256)       590080    \n",
      "                                                                 \n",
      " block3_conv4 (Conv2D)       (None, 56, 56, 256)       590080    \n",
      "                                                                 \n",
      " block3_pool (MaxPooling2D)  (None, 28, 28, 256)       0         \n",
      "                                                                 \n",
      " block4_conv1 (Conv2D)       (None, 28, 28, 512)       1180160   \n",
      "                                                                 \n",
      " block4_conv2 (Conv2D)       (None, 28, 28, 512)       2359808   \n",
      "                                                                 \n",
      " block4_conv3 (Conv2D)       (None, 28, 28, 512)       2359808   \n",
      "                                                                 \n",
      " block4_conv4 (Conv2D)       (None, 28, 28, 512)       2359808   \n",
      "                                                                 \n",
      " block4_pool (MaxPooling2D)  (None, 14, 14, 512)       0         \n",
      "                                                                 \n",
      " block5_conv1 (Conv2D)       (None, 14, 14, 512)       2359808   \n",
      "                                                                 \n",
      " block5_conv2 (Conv2D)       (None, 14, 14, 512)       2359808   \n",
      "                                                                 \n",
      " block5_conv3 (Conv2D)       (None, 14, 14, 512)       2359808   \n",
      "                                                                 \n",
      " block5_conv4 (Conv2D)       (None, 14, 14, 512)       2359808   \n",
      "                                                                 \n",
      " block5_pool (MaxPooling2D)  (None, 7, 7, 512)         0         \n",
      "                                                                 \n",
      "=================================================================\n",
      "Total params: 20024384 (76.39 MB)\n",
      "Trainable params: 0 (0.00 Byte)\n",
      "Non-trainable params: 20024384 (76.39 MB)\n",
      "_________________________________________________________________\n"
     ]
    }
   ],
   "source": [
    "vgg19.summary()"
   ]
  },
  {
   "cell_type": "code",
   "execution_count": 16,
   "id": "9e6a89b9",
   "metadata": {},
   "outputs": [],
   "source": [
    "folders=glob('Train/*')\n"
   ]
  },
  {
   "cell_type": "code",
   "execution_count": 17,
   "id": "f6682d5e",
   "metadata": {},
   "outputs": [
    {
     "data": {
      "text/plain": [
       "['Train\\\\Parasite', 'Train\\\\Uninfected']"
      ]
     },
     "execution_count": 17,
     "metadata": {},
     "output_type": "execute_result"
    }
   ],
   "source": [
    "folders"
   ]
  },
  {
   "cell_type": "code",
   "execution_count": 19,
   "id": "392d2252",
   "metadata": {},
   "outputs": [],
   "source": [
    "x=Flatten()(vgg19.output)\n"
   ]
  },
  {
   "cell_type": "code",
   "execution_count": 20,
   "id": "dedd0135",
   "metadata": {},
   "outputs": [],
   "source": [
    "prediction=Dense(len(folders),activation='softmax')(x)"
   ]
  },
  {
   "cell_type": "code",
   "execution_count": 21,
   "id": "a1f83c87",
   "metadata": {},
   "outputs": [
    {
     "name": "stdout",
     "output_type": "stream",
     "text": [
      "Model: \"model\"\n",
      "_________________________________________________________________\n",
      " Layer (type)                Output Shape              Param #   \n",
      "=================================================================\n",
      " input_2 (InputLayer)        [(None, 224, 224, 3)]     0         \n",
      "                                                                 \n",
      " block1_conv1 (Conv2D)       (None, 224, 224, 64)      1792      \n",
      "                                                                 \n",
      " block1_conv2 (Conv2D)       (None, 224, 224, 64)      36928     \n",
      "                                                                 \n",
      " block1_pool (MaxPooling2D)  (None, 112, 112, 64)      0         \n",
      "                                                                 \n",
      " block2_conv1 (Conv2D)       (None, 112, 112, 128)     73856     \n",
      "                                                                 \n",
      " block2_conv2 (Conv2D)       (None, 112, 112, 128)     147584    \n",
      "                                                                 \n",
      " block2_pool (MaxPooling2D)  (None, 56, 56, 128)       0         \n",
      "                                                                 \n",
      " block3_conv1 (Conv2D)       (None, 56, 56, 256)       295168    \n",
      "                                                                 \n",
      " block3_conv2 (Conv2D)       (None, 56, 56, 256)       590080    \n",
      "                                                                 \n",
      " block3_conv3 (Conv2D)       (None, 56, 56, 256)       590080    \n",
      "                                                                 \n",
      " block3_conv4 (Conv2D)       (None, 56, 56, 256)       590080    \n",
      "                                                                 \n",
      " block3_pool (MaxPooling2D)  (None, 28, 28, 256)       0         \n",
      "                                                                 \n",
      " block4_conv1 (Conv2D)       (None, 28, 28, 512)       1180160   \n",
      "                                                                 \n",
      " block4_conv2 (Conv2D)       (None, 28, 28, 512)       2359808   \n",
      "                                                                 \n",
      " block4_conv3 (Conv2D)       (None, 28, 28, 512)       2359808   \n",
      "                                                                 \n",
      " block4_conv4 (Conv2D)       (None, 28, 28, 512)       2359808   \n",
      "                                                                 \n",
      " block4_pool (MaxPooling2D)  (None, 14, 14, 512)       0         \n",
      "                                                                 \n",
      " block5_conv1 (Conv2D)       (None, 14, 14, 512)       2359808   \n",
      "                                                                 \n",
      " block5_conv2 (Conv2D)       (None, 14, 14, 512)       2359808   \n",
      "                                                                 \n",
      " block5_conv3 (Conv2D)       (None, 14, 14, 512)       2359808   \n",
      "                                                                 \n",
      " block5_conv4 (Conv2D)       (None, 14, 14, 512)       2359808   \n",
      "                                                                 \n",
      " block5_pool (MaxPooling2D)  (None, 7, 7, 512)         0         \n",
      "                                                                 \n",
      " flatten (Flatten)           (None, 25088)             0         \n",
      "                                                                 \n",
      " dense (Dense)               (None, 2)                 50178     \n",
      "                                                                 \n",
      "=================================================================\n",
      "Total params: 20074562 (76.58 MB)\n",
      "Trainable params: 50178 (196.01 KB)\n",
      "Non-trainable params: 20024384 (76.39 MB)\n",
      "_________________________________________________________________\n"
     ]
    }
   ],
   "source": [
    "model=Model(inputs=vgg19.input,outputs=prediction)\n",
    "model.summary()"
   ]
  },
  {
   "cell_type": "code",
   "execution_count": 35,
   "id": "2fee8512",
   "metadata": {},
   "outputs": [],
   "source": [
    "model.compile(\n",
    "    loss='categorical_crossentropy',\n",
    "    optimizer='adam',\n",
    "    metrics=['accuracy']\n",
    ")"
   ]
  },
  {
   "cell_type": "code",
   "execution_count": 36,
   "id": "310a382a",
   "metadata": {},
   "outputs": [],
   "source": [
    "train_datagen=ImageDataGenerator(\n",
    "    rescale=1/255,\n",
    "    shear_range=0.2,\n",
    "    zoom_range=0.2,\n",
    "    horizontal_flip=True\n",
    ")\n",
    "test_datagen=ImageDataGenerator(\n",
    "    rescale=1/255\n",
    ")"
   ]
  },
  {
   "cell_type": "code",
   "execution_count": 37,
   "id": "b998207e",
   "metadata": {},
   "outputs": [
    {
     "name": "stdout",
     "output_type": "stream",
     "text": [
      "Found 416 images belonging to 2 classes.\n"
     ]
    }
   ],
   "source": [
    "training_set=train_datagen.flow_from_directory('Train',target_size=(224,224),batch_size=32,class_mode='categorical')"
   ]
  },
  {
   "cell_type": "code",
   "execution_count": 38,
   "id": "2be36e21",
   "metadata": {},
   "outputs": [
    {
     "data": {
      "text/plain": [
       "<keras.src.preprocessing.image.DirectoryIterator at 0x1531a78d9c0>"
      ]
     },
     "execution_count": 38,
     "metadata": {},
     "output_type": "execute_result"
    }
   ],
   "source": [
    "training_set"
   ]
  },
  {
   "cell_type": "code",
   "execution_count": 39,
   "id": "76601a93",
   "metadata": {},
   "outputs": [
    {
     "name": "stdout",
     "output_type": "stream",
     "text": [
      "Found 134 images belonging to 2 classes.\n"
     ]
    }
   ],
   "source": [
    "test_set=test_datagen.flow_from_directory('Test',target_size=(224,224),batch_size=32,class_mode='categorical')"
   ]
  },
  {
   "cell_type": "code",
   "execution_count": 40,
   "id": "c9b03d2d",
   "metadata": {},
   "outputs": [
    {
     "data": {
      "text/plain": [
       "<keras.src.preprocessing.image.DirectoryIterator at 0x1531a78da80>"
      ]
     },
     "execution_count": 40,
     "metadata": {},
     "output_type": "execute_result"
    }
   ],
   "source": [
    "test_set"
   ]
  },
  {
   "cell_type": "code",
   "execution_count": 42,
   "id": "9f7b22b4",
   "metadata": {},
   "outputs": [
    {
     "name": "stdout",
     "output_type": "stream",
     "text": [
      "Epoch 1/10\n",
      "13/13 [==============================] - 59s 5s/step - loss: 0.5139 - accuracy: 0.7524 - val_loss: 0.5810 - val_accuracy: 0.6642\n",
      "Epoch 2/10\n",
      "13/13 [==============================] - 58s 4s/step - loss: 0.3622 - accuracy: 0.8438 - val_loss: 0.4089 - val_accuracy: 0.8209\n",
      "Epoch 3/10\n",
      "13/13 [==============================] - 57s 4s/step - loss: 0.3620 - accuracy: 0.8245 - val_loss: 0.7226 - val_accuracy: 0.6343\n",
      "Epoch 4/10\n",
      "13/13 [==============================] - 60s 5s/step - loss: 0.3226 - accuracy: 0.8630 - val_loss: 0.3676 - val_accuracy: 0.8284\n",
      "Epoch 5/10\n",
      "13/13 [==============================] - 54s 4s/step - loss: 0.2824 - accuracy: 0.8846 - val_loss: 0.4015 - val_accuracy: 0.7985\n",
      "Epoch 6/10\n",
      "13/13 [==============================] - 57s 4s/step - loss: 0.2671 - accuracy: 0.8990 - val_loss: 0.3315 - val_accuracy: 0.8358\n",
      "Epoch 7/10\n",
      "13/13 [==============================] - 57s 5s/step - loss: 0.2832 - accuracy: 0.8894 - val_loss: 0.3861 - val_accuracy: 0.7761\n",
      "Epoch 8/10\n",
      "13/13 [==============================] - 56s 4s/step - loss: 0.2603 - accuracy: 0.8846 - val_loss: 0.5519 - val_accuracy: 0.7015\n",
      "Epoch 9/10\n",
      "13/13 [==============================] - 57s 5s/step - loss: 0.3037 - accuracy: 0.8582 - val_loss: 0.4664 - val_accuracy: 0.7239\n",
      "Epoch 10/10\n",
      "13/13 [==============================] - 58s 5s/step - loss: 0.2555 - accuracy: 0.8894 - val_loss: 0.4922 - val_accuracy: 0.7388\n"
     ]
    }
   ],
   "source": [
    "r=model.fit(\n",
    "training_set,validation_data=test_set,\n",
    "epochs=10,\n",
    "    steps_per_epoch=len(training_set),\n",
    "    validation_steps=len(test_set)\n",
    ")"
   ]
  },
  {
   "cell_type": "code",
   "execution_count": 47,
   "id": "50907dc1",
   "metadata": {},
   "outputs": [
    {
     "data": {
      "image/png": "[encoded data removed]",
      "text/plain": [
       "<Figure size 640x480 with 1 Axes>"
      ]
     },
     "metadata": {},
     "output_type": "display_data"
    },
    {
     "data": {
      "image/png": "[encoded data removed]",
      "text/plain": [
       "<Figure size 640x480 with 1 Axes>"
      ]
     },
     "metadata": {},
     "output_type": "display_data"
    }
   ],
   "source": [
    "plt.plot(r.history['loss'],label='train_loss')\n",
    "plt.plot(r.history['val_loss'],label='val_loss')\n",
    "plt.legend()\n",
    "plt.show()\n",
    "\n",
    "plt.plot(r.history['accuracy'],label='train_acc')\n",
    "plt.plot(r.history['val_accuracy'],label='val_acc')\n",
    "plt.legend()\n",
    "plt.show()"
   ]
  },
  {
   "cell_type": "code",
   "execution_count": 48,
   "id": "e2116574",
   "metadata": {},
   "outputs": [],
   "source": [
    "from keras.models import load_model\n",
    "model.save('model_vgg19.h5')"
   ]
  },
  {
   "cell_type": "code",
   "execution_count": 49,
   "id": "ac17974b",
   "metadata": {},
   "outputs": [
    {
     "name": "stdout",
     "output_type": "stream",
     "text": [
      "5/5 [==============================] - 14s 3s/step\n"
     ]
    }
   ],
   "source": [
    "y_pred=model.predict(test_set)"
   ]
  },
  {
   "cell_type": "code",
   "execution_count": 50,
   "id": "c6bb0c51",
   "metadata": {},
   "outputs": [
    {
     "data": {
      "text/plain": [
       "array([[6.7169338e-01, 3.2830665e-01],\n",
       "       [9.7904794e-02, 9.0209526e-01],\n",
       "       [9.5725417e-01, 4.2745858e-02],\n",
       "       [4.9985360e-02, 9.5001459e-01],\n",
       "       [2.6397026e-01, 7.3602980e-01],\n",
       "       [2.0921133e-01, 7.9078865e-01],\n",
       "       [8.2973301e-02, 9.1702670e-01],\n",
       "       [1.2653200e-01, 8.7346792e-01],\n",
       "       [8.3896942e-02, 9.1610301e-01],\n",
       "       [4.0085267e-02, 9.5991468e-01],\n",
       "       [1.5445830e-01, 8.4554166e-01],\n",
       "       [1.7612575e-01, 8.2387429e-01],\n",
       "       [6.5959108e-01, 3.4040889e-01],\n",
       "       [2.1937950e-01, 7.8062052e-01],\n",
       "       [6.3169634e-01, 3.6830360e-01],\n",
       "       [9.4689155e-01, 5.3108416e-02],\n",
       "       [9.9597979e-01, 4.0202131e-03],\n",
       "       [3.2119207e-02, 9.6788079e-01],\n",
       "       [2.9102679e-02, 9.7089732e-01],\n",
       "       [8.8414289e-02, 9.1158575e-01],\n",
       "       [2.1099962e-01, 7.8900039e-01],\n",
       "       [9.7375399e-01, 2.6246063e-02],\n",
       "       [2.7772090e-01, 7.2227901e-01],\n",
       "       [9.4931352e-01, 5.0686456e-02],\n",
       "       [1.4261803e-02, 9.8573816e-01],\n",
       "       [7.8427160e-01, 2.1572840e-01],\n",
       "       [5.0577562e-02, 9.4942248e-01],\n",
       "       [3.6575773e-01, 6.3424224e-01],\n",
       "       [4.2756941e-02, 9.5724303e-01],\n",
       "       [3.2025966e-01, 6.7974031e-01],\n",
       "       [9.8667836e-01, 1.3321625e-02],\n",
       "       [2.0512183e-01, 7.9487813e-01],\n",
       "       [9.2118996e-01, 7.8810103e-02],\n",
       "       [8.2070678e-02, 9.1792929e-01],\n",
       "       [8.7469894e-01, 1.2530106e-01],\n",
       "       [2.5064096e-01, 7.4935901e-01],\n",
       "       [9.9924231e-01, 7.5769180e-04],\n",
       "       [9.8382980e-01, 1.6170260e-02],\n",
       "       [9.5043933e-01, 4.9560715e-02],\n",
       "       [2.5417903e-02, 9.7458208e-01],\n",
       "       [7.1692228e-02, 9.2830783e-01],\n",
       "       [2.7543125e-01, 7.2456878e-01],\n",
       "       [2.5374013e-01, 7.4625987e-01],\n",
       "       [2.2164795e-01, 7.7835202e-01],\n",
       "       [9.4680834e-01, 5.3191688e-02],\n",
       "       [3.4565833e-01, 6.5434170e-01],\n",
       "       [5.8627826e-01, 4.1372174e-01],\n",
       "       [2.8293589e-02, 9.7170639e-01],\n",
       "       [7.7007256e-02, 9.2299271e-01],\n",
       "       [4.8840985e-01, 5.1159012e-01],\n",
       "       [9.6328294e-01, 3.6717065e-02],\n",
       "       [3.8467743e-02, 9.6153224e-01],\n",
       "       [2.2408158e-02, 9.7759181e-01],\n",
       "       [2.9789630e-01, 7.0210373e-01],\n",
       "       [9.6310592e-01, 3.6894158e-02],\n",
       "       [5.0830787e-01, 4.9169213e-01],\n",
       "       [1.6967246e-02, 9.8303276e-01],\n",
       "       [5.2570295e-02, 9.4742972e-01],\n",
       "       [9.8849267e-01, 1.1507352e-02],\n",
       "       [7.7989414e-02, 9.2201060e-01],\n",
       "       [1.6849315e-01, 8.3150685e-01],\n",
       "       [7.5305247e-01, 2.4694751e-01],\n",
       "       [3.4596395e-01, 6.5403610e-01],\n",
       "       [6.1111319e-01, 3.8888687e-01],\n",
       "       [8.4535360e-02, 9.1546458e-01],\n",
       "       [1.1302671e-01, 8.8697326e-01],\n",
       "       [8.3466363e-01, 1.6533640e-01],\n",
       "       [2.5020180e-02, 9.7497976e-01],\n",
       "       [1.6826296e-01, 8.3173704e-01],\n",
       "       [9.9501061e-01, 4.9893497e-03],\n",
       "       [9.5365338e-02, 9.0463459e-01],\n",
       "       [3.7011373e-01, 6.2988621e-01],\n",
       "       [9.6628398e-01, 3.3715978e-02],\n",
       "       [2.7129194e-02, 9.7287083e-01],\n",
       "       [9.9390620e-01, 6.0938592e-03],\n",
       "       [9.9750924e-01, 2.4906890e-03],\n",
       "       [4.2517573e-01, 5.7482427e-01],\n",
       "       [9.3929082e-01, 6.0709216e-02],\n",
       "       [2.7835992e-01, 7.2164011e-01],\n",
       "       [9.0325433e-01, 9.6745618e-02],\n",
       "       [8.8503522e-01, 1.1496481e-01],\n",
       "       [1.2645787e-01, 8.7354219e-01],\n",
       "       [4.5771050e-01, 5.4228950e-01],\n",
       "       [9.7335815e-01, 2.6641838e-02],\n",
       "       [6.6262257e-01, 3.3737746e-01],\n",
       "       [9.9250340e-01, 7.4966541e-03],\n",
       "       [9.5656347e-01, 4.3436512e-02],\n",
       "       [7.1479630e-01, 2.8520367e-01],\n",
       "       [3.4188449e-01, 6.5811551e-01],\n",
       "       [6.5732367e-02, 9.3426764e-01],\n",
       "       [9.9745136e-01, 2.5485693e-03],\n",
       "       [9.7126645e-01, 2.8733542e-02],\n",
       "       [7.8910786e-01, 2.1089216e-01],\n",
       "       [5.5120185e-02, 9.4487983e-01],\n",
       "       [6.2622273e-01, 3.7377727e-01],\n",
       "       [5.7194245e-01, 4.2805752e-01],\n",
       "       [9.9987698e-01, 1.2299963e-04],\n",
       "       [8.2293618e-01, 1.7706382e-01],\n",
       "       [2.3749834e-02, 9.7625017e-01],\n",
       "       [9.9965692e-01, 3.4311105e-04],\n",
       "       [4.5563281e-02, 9.5443666e-01],\n",
       "       [5.0302472e-02, 9.4969755e-01],\n",
       "       [9.9969864e-02, 9.0003008e-01],\n",
       "       [9.4673759e-01, 5.3262446e-02],\n",
       "       [6.8911207e-01, 3.1088793e-01],\n",
       "       [1.1580666e-01, 8.8419330e-01],\n",
       "       [9.6967351e-01, 3.0326452e-02],\n",
       "       [6.5663874e-02, 9.3433613e-01],\n",
       "       [2.6752306e-02, 9.7324771e-01],\n",
       "       [5.7189655e-02, 9.4281036e-01],\n",
       "       [5.9957123e-01, 4.0042877e-01],\n",
       "       [2.4820051e-01, 7.5179946e-01],\n",
       "       [9.9222034e-01, 7.7796266e-03],\n",
       "       [7.0774235e-02, 9.2922580e-01],\n",
       "       [1.1435442e-01, 8.8564557e-01],\n",
       "       [3.0009106e-02, 9.6999085e-01],\n",
       "       [2.8862494e-01, 7.1137500e-01],\n",
       "       [3.1471211e-02, 9.6852881e-01],\n",
       "       [9.7161102e-01, 2.8388960e-02],\n",
       "       [3.6820760e-01, 6.3179243e-01],\n",
       "       [5.5960447e-02, 9.4403952e-01],\n",
       "       [2.5544158e-01, 7.4455845e-01],\n",
       "       [5.8550310e-01, 4.1449690e-01],\n",
       "       [9.3723094e-01, 6.2769011e-02],\n",
       "       [1.7556245e-02, 9.8244375e-01],\n",
       "       [1.8167473e-01, 8.1832528e-01],\n",
       "       [2.0768538e-01, 7.9231459e-01],\n",
       "       [9.5051277e-01, 4.9487159e-02],\n",
       "       [7.4235106e-01, 2.5764889e-01],\n",
       "       [7.6225758e-01, 2.3774241e-01],\n",
       "       [4.1818735e-01, 5.8181262e-01],\n",
       "       [9.9490499e-01, 5.0950060e-03],\n",
       "       [7.1019195e-02, 9.2898077e-01],\n",
       "       [4.9094614e-02, 9.5090544e-01]], dtype=float32)"
      ]
     },
     "execution_count": 50,
     "metadata": {},
     "output_type": "execute_result"
    }
   ],
   "source": [
    "y_pred"
   ]
  },
  {
   "cell_type": "code",
   "execution_count": 51,
   "id": "1765bcd4",
   "metadata": {},
   "outputs": [],
   "source": [
    "y_pred=np.argmax(y_pred,axis=1)"
   ]
  },
  {
   "cell_type": "code",
   "execution_count": 52,
   "id": "998e4c6d",
   "metadata": {},
   "outputs": [
    {
     "data": {
      "text/plain": [
       "array([0, 1, 0, 1, 1, 1, 1, 1, 1, 1, 1, 1, 0, 1, 0, 0, 0, 1, 1, 1, 1, 0,\n",
       "       1, 0, 1, 0, 1, 1, 1, 1, 0, 1, 0, 1, 0, 1, 0, 0, 0, 1, 1, 1, 1, 1,\n",
       "       0, 1, 0, 1, 1, 1, 0, 1, 1, 1, 0, 0, 1, 1, 0, 1, 1, 0, 1, 0, 1, 1,\n",
       "       0, 1, 1, 0, 1, 1, 0, 1, 0, 0, 1, 0, 1, 0, 0, 1, 1, 0, 0, 0, 0, 0,\n",
       "       1, 1, 0, 0, 0, 1, 0, 0, 0, 0, 1, 0, 1, 1, 1, 0, 0, 1, 0, 1, 1, 1,\n",
       "       0, 1, 0, 1, 1, 1, 1, 1, 0, 1, 1, 1, 0, 0, 1, 1, 1, 0, 0, 0, 1, 0,\n",
       "       1, 1], dtype=int64)"
      ]
     },
     "execution_count": 52,
     "metadata": {},
     "output_type": "execute_result"
    }
   ],
   "source": [
    "y_pred"
   ]
  },
  {
   "cell_type": "code",
   "execution_count": 156,
   "id": "c65999ef",
   "metadata": {},
   "outputs": [],
   "source": [
    "img=image.load_img('Train/Parasite/C133P94ThinF_IMG_20151004_155721_cell_113.png',target_size=(224,224))"
   ]
  },
  {
   "cell_type": "code",
   "execution_count": 157,
   "id": "215dab8b",
   "metadata": {},
   "outputs": [],
   "source": [
    "y=image.img_to_array(img)"
   ]
  },
  {
   "cell_type": "code",
   "execution_count": 158,
   "id": "387d2887",
   "metadata": {},
   "outputs": [],
   "source": [
    "y=y/255\n",
    "    "
   ]
  },
  {
   "cell_type": "code",
   "execution_count": 159,
   "id": "e2b035a3",
   "metadata": {},
   "outputs": [
    {
     "data": {
      "text/plain": [
       "array([[[0., 0., 0.],\n",
       "        [0., 0., 0.],\n",
       "        [0., 0., 0.],\n",
       "        ...,\n",
       "        [0., 0., 0.],\n",
       "        [0., 0., 0.],\n",
       "        [0., 0., 0.]],\n",
       "\n",
       "       [[0., 0., 0.],\n",
       "        [0., 0., 0.],\n",
       "        [0., 0., 0.],\n",
       "        ...,\n",
       "        [0., 0., 0.],\n",
       "        [0., 0., 0.],\n",
       "        [0., 0., 0.]],\n",
       "\n",
       "       [[0., 0., 0.],\n",
       "        [0., 0., 0.],\n",
       "        [0., 0., 0.],\n",
       "        ...,\n",
       "        [0., 0., 0.],\n",
       "        [0., 0., 0.],\n",
       "        [0., 0., 0.]],\n",
       "\n",
       "       ...,\n",
       "\n",
       "       [[0., 0., 0.],\n",
       "        [0., 0., 0.],\n",
       "        [0., 0., 0.],\n",
       "        ...,\n",
       "        [0., 0., 0.],\n",
       "        [0., 0., 0.],\n",
       "        [0., 0., 0.]],\n",
       "\n",
       "       [[0., 0., 0.],\n",
       "        [0., 0., 0.],\n",
       "        [0., 0., 0.],\n",
       "        ...,\n",
       "        [0., 0., 0.],\n",
       "        [0., 0., 0.],\n",
       "        [0., 0., 0.]],\n",
       "\n",
       "       [[0., 0., 0.],\n",
       "        [0., 0., 0.],\n",
       "        [0., 0., 0.],\n",
       "        ...,\n",
       "        [0., 0., 0.],\n",
       "        [0., 0., 0.],\n",
       "        [0., 0., 0.]]], dtype=float32)"
      ]
     },
     "execution_count": 159,
     "metadata": {},
     "output_type": "execute_result"
    }
   ],
   "source": [
    "y"
   ]
  },
  {
   "cell_type": "code",
   "execution_count": 160,
   "id": "24507eb5",
   "metadata": {},
   "outputs": [
    {
     "data": {
      "text/plain": [
       "(1, 224, 224, 3)"
      ]
     },
     "execution_count": 160,
     "metadata": {},
     "output_type": "execute_result"
    }
   ],
   "source": [
    "y=np.expand_dims(y,axis=0)\n",
    "img_data=preprocess_input(y)\n",
    "img_data.shape"
   ]
  },
  {
   "cell_type": "code",
   "execution_count": 161,
   "id": "2853d919",
   "metadata": {},
   "outputs": [
    {
     "name": "stdout",
     "output_type": "stream",
     "text": [
      "1/1 [==============================] - 0s 104ms/step\n"
     ]
    },
    {
     "data": {
      "text/plain": [
       "array([[0.08600602, 0.91399395]], dtype=float32)"
      ]
     },
     "execution_count": 161,
     "metadata": {},
     "output_type": "execute_result"
    }
   ],
   "source": [
    "model.predict(img_data)"
   ]
  },
  {
   "cell_type": "code",
   "execution_count": 162,
   "id": "1c7b98e8",
   "metadata": {},
   "outputs": [
    {
     "name": "stdout",
     "output_type": "stream",
     "text": [
      "1/1 [==============================] - 0s 109ms/step\n"
     ]
    },
    {
     "data": {
      "text/plain": [
       "array([1], dtype=int64)"
      ]
     },
     "execution_count": 162,
     "metadata": {},
     "output_type": "execute_result"
    }
   ],
   "source": [
    "a=np.argmax(model.predict(img_data),axis=1)\n",
    "a"
   ]
  },
  {
   "cell_type": "code",
   "execution_count": 163,
   "id": "d8160999",
   "metadata": {},
   "outputs": [
    {
     "name": "stdout",
     "output_type": "stream",
     "text": [
      "uninfected\n"
     ]
    }
   ],
   "source": [
    "if(a==1):\n",
    "    print(\"uninfected\")\n",
    "if(a==0):\n",
    "    print(\"infected\")"
   ]
  },
  {
   "cell_type": "code",
   "execution_count": null,
   "id": "e00a138e",
   "metadata": {},
   "outputs": [],
   "source": []
  },
  {
   "cell_type": "code",
   "execution_count": null,
   "id": "acae474c",
   "metadata": {},
   "outputs": [],
   "source": []
  },
  {
   "cell_type": "code",
   "execution_count": null,
   "id": "43e14493",
   "metadata": {},
   "outputs": [],
   "source": []
  },
  {
   "cell_type": "code",
   "execution_count": null,
   "id": "fb339e23",
   "metadata": {},
   "outputs": [],
   "source": []
  },
  {
   "cell_type": "code",
   "execution_count": null,
   "id": "2e28a29c",
   "metadata": {},
   "outputs": [],
   "source": []
  },
  {
   "cell_type": "code",
   "execution_count": null,
   "id": "82ae128f",
   "metadata": {},
   "outputs": [],
   "source": []
  },
  {
   "cell_type": "code",
   "execution_count": null,
   "id": "89febf86",
   "metadata": {},
   "outputs": [],
   "source": []
  },
  {
   "cell_type": "code",
   "execution_count": null,
   "id": "1e97ca54",
   "metadata": {},
   "outputs": [],
   "source": []
  },
  {
   "cell_type": "code",
   "execution_count": null,
   "id": "bd276172",
   "metadata": {},
   "outputs": [],
   "source": []
  },
  {
   "cell_type": "code",
   "execution_count": null,
   "id": "164ecfe0",
   "metadata": {},
   "outputs": [],
   "source": []
  },
  {
   "cell_type": "code",
   "execution_count": null,
   "id": "e58b42d4",
   "metadata": {},
   "outputs": [],
   "source": []
  }
 ],
 "metadata": {
  "kernelspec": {
   "display_name": "Python 3 (ipykernel)",
   "language": "python",
   "name": "python3"
  },
  "language_info": {
   "codemirror_mode": {
    "name": "ipython",
    "version": 3
   },
   "file_extension": ".py",
   "mimetype": "text/x-python",
   "name": "python",
   "nbconvert_exporter": "python",
   "pygments_lexer": "ipython3",
   "version": "3.10.9"
  }
 },
 "nbformat": 4,
 "nbformat_minor": 5
}
